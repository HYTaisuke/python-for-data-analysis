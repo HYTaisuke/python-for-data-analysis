{
 "cells": [
  {
   "cell_type": "code",
   "execution_count": 3,
   "metadata": {},
   "outputs": [],
   "source": [
    "import numpy as np\n",
    "import matplotlib.pyplot as plt \n",
    "import pandas as pd"
   ]
  },
  {
   "cell_type": "code",
   "execution_count": 4,
   "metadata": {},
   "outputs": [],
   "source": [
    "#日期和时间数据的类型及工具"
   ]
  },
  {
   "cell_type": "code",
   "execution_count": 5,
   "metadata": {},
   "outputs": [],
   "source": [
    "from datetime import datetime"
   ]
  },
  {
   "cell_type": "code",
   "execution_count": 6,
   "metadata": {},
   "outputs": [],
   "source": [
    "now = datetime.now()"
   ]
  },
  {
   "cell_type": "code",
   "execution_count": 7,
   "metadata": {},
   "outputs": [
    {
     "data": {
      "text/plain": [
       "datetime.datetime(2019, 3, 14, 19, 47, 14, 87365)"
      ]
     },
     "execution_count": 7,
     "metadata": {},
     "output_type": "execute_result"
    }
   ],
   "source": [
    "now"
   ]
  },
  {
   "cell_type": "code",
   "execution_count": 8,
   "metadata": {},
   "outputs": [
    {
     "data": {
      "text/plain": [
       "2019"
      ]
     },
     "execution_count": 8,
     "metadata": {},
     "output_type": "execute_result"
    }
   ],
   "source": [
    "now.year"
   ]
  },
  {
   "cell_type": "code",
   "execution_count": 9,
   "metadata": {},
   "outputs": [
    {
     "data": {
      "text/plain": [
       "3"
      ]
     },
     "execution_count": 9,
     "metadata": {},
     "output_type": "execute_result"
    }
   ],
   "source": [
    "now.month"
   ]
  },
  {
   "cell_type": "code",
   "execution_count": 10,
   "metadata": {},
   "outputs": [],
   "source": [
    "date=datetime(2019,1,23)-datetime(2018,1,23)"
   ]
  },
  {
   "cell_type": "code",
   "execution_count": 11,
   "metadata": {},
   "outputs": [
    {
     "data": {
      "text/plain": [
       "datetime.timedelta(days=365)"
      ]
     },
     "execution_count": 11,
     "metadata": {},
     "output_type": "execute_result"
    }
   ],
   "source": [
    "date"
   ]
  },
  {
   "cell_type": "code",
   "execution_count": 12,
   "metadata": {},
   "outputs": [
    {
     "data": {
      "text/plain": [
       "365"
      ]
     },
     "execution_count": 12,
     "metadata": {},
     "output_type": "execute_result"
    }
   ],
   "source": [
    "date.days"
   ]
  },
  {
   "cell_type": "code",
   "execution_count": 13,
   "metadata": {},
   "outputs": [
    {
     "data": {
      "text/plain": [
       "<method 'date' of 'datetime.datetime' objects>"
      ]
     },
     "execution_count": 13,
     "metadata": {},
     "output_type": "execute_result"
    }
   ],
   "source": [
    "datetime.date"
   ]
  },
  {
   "cell_type": "code",
   "execution_count": 14,
   "metadata": {},
   "outputs": [],
   "source": [
    "a=datetime(2019,1,23)"
   ]
  },
  {
   "cell_type": "code",
   "execution_count": 15,
   "metadata": {},
   "outputs": [
    {
     "data": {
      "text/plain": [
       "datetime.datetime(2019, 1, 23, 0, 0)"
      ]
     },
     "execution_count": 15,
     "metadata": {},
     "output_type": "execute_result"
    }
   ],
   "source": [
    "a"
   ]
  },
  {
   "cell_type": "code",
   "execution_count": 16,
   "metadata": {},
   "outputs": [
    {
     "data": {
      "text/plain": [
       "<function datetime.time>"
      ]
     },
     "execution_count": 16,
     "metadata": {},
     "output_type": "execute_result"
    }
   ],
   "source": [
    "a.time"
   ]
  },
  {
   "cell_type": "code",
   "execution_count": 17,
   "metadata": {},
   "outputs": [
    {
     "data": {
      "text/plain": [
       "datetime.date(2019, 3, 14)"
      ]
     },
     "execution_count": 17,
     "metadata": {},
     "output_type": "execute_result"
    }
   ],
   "source": [
    "now.date()"
   ]
  },
  {
   "cell_type": "code",
   "execution_count": 18,
   "metadata": {},
   "outputs": [
    {
     "data": {
      "text/plain": [
       "datetime.time(19, 47, 14, 87365)"
      ]
     },
     "execution_count": 18,
     "metadata": {},
     "output_type": "execute_result"
    }
   ],
   "source": [
    "now.time()"
   ]
  },
  {
   "cell_type": "code",
   "execution_count": 19,
   "metadata": {},
   "outputs": [
    {
     "data": {
      "text/plain": [
       "datetime.date(2019, 1, 23)"
      ]
     },
     "execution_count": 19,
     "metadata": {},
     "output_type": "execute_result"
    }
   ],
   "source": [
    "a.date()"
   ]
  },
  {
   "cell_type": "code",
   "execution_count": 20,
   "metadata": {},
   "outputs": [],
   "source": [
    "#字符串与datetime互相转化"
   ]
  },
  {
   "cell_type": "code",
   "execution_count": 21,
   "metadata": {},
   "outputs": [],
   "source": [
    "stamp=datetime(2001,1,1)"
   ]
  },
  {
   "cell_type": "code",
   "execution_count": 22,
   "metadata": {},
   "outputs": [
    {
     "data": {
      "text/plain": [
       "datetime.datetime(2001, 1, 1, 0, 0)"
      ]
     },
     "execution_count": 22,
     "metadata": {},
     "output_type": "execute_result"
    }
   ],
   "source": [
    "stamp"
   ]
  },
  {
   "cell_type": "code",
   "execution_count": 23,
   "metadata": {},
   "outputs": [
    {
     "data": {
      "text/plain": [
       "'2001-01-01 00:00:00'"
      ]
     },
     "execution_count": 23,
     "metadata": {},
     "output_type": "execute_result"
    }
   ],
   "source": [
    "date1=str(stamp)\n",
    "date1"
   ]
  },
  {
   "cell_type": "code",
   "execution_count": 24,
   "metadata": {},
   "outputs": [
    {
     "data": {
      "text/plain": [
       "datetime.datetime(2001, 1, 1, 0, 0)"
      ]
     },
     "execution_count": 24,
     "metadata": {},
     "output_type": "execute_result"
    }
   ],
   "source": [
    "stamp"
   ]
  },
  {
   "cell_type": "code",
   "execution_count": 25,
   "metadata": {},
   "outputs": [],
   "source": [
    "date=stamp.strftime('%Y-%m-%d')"
   ]
  },
  {
   "cell_type": "code",
   "execution_count": 26,
   "metadata": {},
   "outputs": [
    {
     "data": {
      "text/plain": [
       "str"
      ]
     },
     "execution_count": 26,
     "metadata": {},
     "output_type": "execute_result"
    }
   ],
   "source": [
    "type(date1)"
   ]
  },
  {
   "cell_type": "code",
   "execution_count": 27,
   "metadata": {},
   "outputs": [
    {
     "data": {
      "text/plain": [
       "datetime.datetime(2013, 3, 27, 0, 0)"
      ]
     },
     "execution_count": 27,
     "metadata": {},
     "output_type": "execute_result"
    }
   ],
   "source": [
    "datetime.strptime('2013-3-27','%Y-%m-%d')"
   ]
  },
  {
   "cell_type": "code",
   "execution_count": 28,
   "metadata": {},
   "outputs": [],
   "source": [
    "#时间序列基础"
   ]
  },
  {
   "cell_type": "code",
   "execution_count": 29,
   "metadata": {},
   "outputs": [],
   "source": [
    "from datetime import datetime"
   ]
  },
  {
   "cell_type": "code",
   "execution_count": 30,
   "metadata": {},
   "outputs": [],
   "source": [
    "dates=[datetime(2011,1,1),datetime(2011,1,2),\n",
    "      datetime(2011,1,3),datetime(2011,1,4),\n",
    "      datetime(2011,1,5),datetime(2011,1,6)]"
   ]
  },
  {
   "cell_type": "code",
   "execution_count": 31,
   "metadata": {},
   "outputs": [],
   "source": [
    "ts=pd.Series(np.random.randn(6),index=dates)"
   ]
  },
  {
   "cell_type": "code",
   "execution_count": 32,
   "metadata": {},
   "outputs": [
    {
     "data": {
      "text/plain": [
       "2011-01-01   -0.740219\n",
       "2011-01-02   -0.993307\n",
       "2011-01-03   -0.756372\n",
       "2011-01-04    0.414256\n",
       "2011-01-05   -0.955890\n",
       "2011-01-06   -0.684559\n",
       "dtype: float64"
      ]
     },
     "execution_count": 32,
     "metadata": {},
     "output_type": "execute_result"
    }
   ],
   "source": [
    "ts"
   ]
  },
  {
   "cell_type": "code",
   "execution_count": 33,
   "metadata": {},
   "outputs": [
    {
     "data": {
      "text/plain": [
       "2011-01-01   -1.480437\n",
       "2011-01-02         NaN\n",
       "2011-01-03   -1.512743\n",
       "2011-01-04         NaN\n",
       "2011-01-05   -1.911781\n",
       "2011-01-06         NaN\n",
       "dtype: float64"
      ]
     },
     "execution_count": 33,
     "metadata": {},
     "output_type": "execute_result"
    }
   ],
   "source": [
    "ts+ts[::2]"
   ]
  },
  {
   "cell_type": "code",
   "execution_count": 34,
   "metadata": {},
   "outputs": [],
   "source": [
    "#索引、选择、子集"
   ]
  },
  {
   "cell_type": "code",
   "execution_count": 35,
   "metadata": {},
   "outputs": [],
   "source": [
    "stamp=ts.index[2]"
   ]
  },
  {
   "cell_type": "code",
   "execution_count": 36,
   "metadata": {},
   "outputs": [
    {
     "data": {
      "text/plain": [
       "Timestamp('2011-01-03 00:00:00')"
      ]
     },
     "execution_count": 36,
     "metadata": {},
     "output_type": "execute_result"
    }
   ],
   "source": [
    "stamp"
   ]
  },
  {
   "cell_type": "code",
   "execution_count": 37,
   "metadata": {},
   "outputs": [
    {
     "data": {
      "text/plain": [
       "-0.7563716581095459"
      ]
     },
     "execution_count": 37,
     "metadata": {},
     "output_type": "execute_result"
    }
   ],
   "source": [
    "ts[stamp]"
   ]
  },
  {
   "cell_type": "code",
   "execution_count": 38,
   "metadata": {},
   "outputs": [],
   "source": [
    "long_ts=pd.Series(np.random.randn(1000),\n",
    "                 index=pd.date_range('1/1/2000',periods=1000))"
   ]
  },
  {
   "cell_type": "code",
   "execution_count": 39,
   "metadata": {},
   "outputs": [
    {
     "data": {
      "text/plain": [
       "2000-01-01   -1.302760\n",
       "2000-01-02    0.037267\n",
       "2000-01-03    0.228174\n",
       "2000-01-04    0.769923\n",
       "2000-01-05    1.637002\n",
       "2000-01-06    0.158618\n",
       "2000-01-07    0.290983\n",
       "2000-01-08   -0.651748\n",
       "2000-01-09   -0.360742\n",
       "2000-01-10    0.400790\n",
       "2000-01-11    1.232892\n",
       "2000-01-12    0.125529\n",
       "2000-01-13   -0.248999\n",
       "2000-01-14   -1.132719\n",
       "2000-01-15   -0.559028\n",
       "2000-01-16    1.386871\n",
       "2000-01-17   -1.504047\n",
       "2000-01-18   -1.751864\n",
       "2000-01-19   -0.749809\n",
       "2000-01-20   -0.356348\n",
       "2000-01-21   -0.990753\n",
       "2000-01-22    0.321934\n",
       "2000-01-23   -0.164490\n",
       "2000-01-24   -0.164011\n",
       "2000-01-25    0.004819\n",
       "2000-01-26    0.375556\n",
       "2000-01-27   -0.493563\n",
       "2000-01-28   -1.493850\n",
       "2000-01-29    0.096951\n",
       "2000-01-30    0.075165\n",
       "                ...   \n",
       "2002-08-28   -0.452668\n",
       "2002-08-29   -0.873629\n",
       "2002-08-30   -0.042224\n",
       "2002-08-31   -0.241707\n",
       "2002-09-01   -1.849062\n",
       "2002-09-02   -2.952469\n",
       "2002-09-03    0.496341\n",
       "2002-09-04    0.194667\n",
       "2002-09-05   -1.687401\n",
       "2002-09-06   -1.160363\n",
       "2002-09-07   -0.052266\n",
       "2002-09-08    1.153956\n",
       "2002-09-09   -1.945093\n",
       "2002-09-10    1.609044\n",
       "2002-09-11   -0.644979\n",
       "2002-09-12    1.028523\n",
       "2002-09-13    0.326162\n",
       "2002-09-14   -1.497417\n",
       "2002-09-15   -1.368915\n",
       "2002-09-16    1.430972\n",
       "2002-09-17    1.768515\n",
       "2002-09-18   -0.284249\n",
       "2002-09-19   -1.170157\n",
       "2002-09-20   -0.397258\n",
       "2002-09-21    1.750257\n",
       "2002-09-22    0.450736\n",
       "2002-09-23   -0.363829\n",
       "2002-09-24   -1.321379\n",
       "2002-09-25   -0.156868\n",
       "2002-09-26   -0.602166\n",
       "Freq: D, Length: 1000, dtype: float64"
      ]
     },
     "execution_count": 39,
     "metadata": {},
     "output_type": "execute_result"
    }
   ],
   "source": [
    "long_ts"
   ]
  },
  {
   "cell_type": "code",
   "execution_count": 40,
   "metadata": {},
   "outputs": [
    {
     "data": {
      "text/plain": [
       "2001-01-01   -0.419947\n",
       "2001-01-02    0.493214\n",
       "2001-01-03    0.157318\n",
       "2001-01-04   -0.134558\n",
       "2001-01-05   -0.036000\n",
       "2001-01-06   -0.404291\n",
       "2001-01-07   -0.642211\n",
       "2001-01-08   -0.232097\n",
       "2001-01-09   -0.296517\n",
       "2001-01-10    0.307054\n",
       "2001-01-11   -0.801917\n",
       "2001-01-12   -0.532508\n",
       "2001-01-13   -0.370997\n",
       "2001-01-14   -1.034162\n",
       "2001-01-15    0.815581\n",
       "2001-01-16    0.376366\n",
       "2001-01-17   -0.977139\n",
       "2001-01-18   -0.926400\n",
       "2001-01-19   -1.328766\n",
       "2001-01-20    1.072829\n",
       "2001-01-21    1.507954\n",
       "2001-01-22    0.578354\n",
       "2001-01-23    1.270005\n",
       "2001-01-24    1.263136\n",
       "2001-01-25    0.218119\n",
       "2001-01-26    1.201516\n",
       "2001-01-27   -0.639222\n",
       "2001-01-28    1.837564\n",
       "2001-01-29   -0.245453\n",
       "2001-01-30   -0.931042\n",
       "                ...   \n",
       "2001-12-02    0.239619\n",
       "2001-12-03    0.630912\n",
       "2001-12-04   -0.126487\n",
       "2001-12-05    0.879855\n",
       "2001-12-06   -0.762192\n",
       "2001-12-07    0.109719\n",
       "2001-12-08    0.493626\n",
       "2001-12-09    0.578846\n",
       "2001-12-10   -1.981968\n",
       "2001-12-11   -0.928546\n",
       "2001-12-12    0.686433\n",
       "2001-12-13    2.518434\n",
       "2001-12-14   -0.436876\n",
       "2001-12-15   -0.173123\n",
       "2001-12-16    0.555102\n",
       "2001-12-17    0.169801\n",
       "2001-12-18   -1.052436\n",
       "2001-12-19    0.129965\n",
       "2001-12-20    0.331254\n",
       "2001-12-21   -0.659300\n",
       "2001-12-22   -0.406954\n",
       "2001-12-23   -0.415876\n",
       "2001-12-24    0.506933\n",
       "2001-12-25   -0.613295\n",
       "2001-12-26   -0.776715\n",
       "2001-12-27   -0.997200\n",
       "2001-12-28    2.082048\n",
       "2001-12-29    0.671175\n",
       "2001-12-30    0.210256\n",
       "2001-12-31    0.054043\n",
       "Freq: D, Length: 365, dtype: float64"
      ]
     },
     "execution_count": 40,
     "metadata": {},
     "output_type": "execute_result"
    }
   ],
   "source": [
    "long_ts['2001']"
   ]
  },
  {
   "cell_type": "code",
   "execution_count": 41,
   "metadata": {},
   "outputs": [
    {
     "data": {
      "text/plain": [
       "2011-01-01   -0.740219\n",
       "2011-01-02   -0.993307\n",
       "2011-01-03   -0.756372\n",
       "2011-01-04    0.414256\n",
       "2011-01-05   -0.955890\n",
       "2011-01-06   -0.684559\n",
       "dtype: float64"
      ]
     },
     "execution_count": 41,
     "metadata": {},
     "output_type": "execute_result"
    }
   ],
   "source": [
    "ts\n"
   ]
  },
  {
   "cell_type": "code",
   "execution_count": 42,
   "metadata": {},
   "outputs": [
    {
     "data": {
      "text/plain": [
       "2011-01-03   -0.756372\n",
       "2011-01-04    0.414256\n",
       "2011-01-05   -0.955890\n",
       "2011-01-06   -0.684559\n",
       "dtype: float64"
      ]
     },
     "execution_count": 42,
     "metadata": {},
     "output_type": "execute_result"
    }
   ],
   "source": [
    "ts[datetime(2011,1,3):]"
   ]
  },
  {
   "cell_type": "code",
   "execution_count": 43,
   "metadata": {},
   "outputs": [
    {
     "data": {
      "text/plain": [
       "2011-01-01   -0.740219\n",
       "2011-01-02   -0.993307\n",
       "2011-01-03   -0.756372\n",
       "dtype: float64"
      ]
     },
     "execution_count": 43,
     "metadata": {},
     "output_type": "execute_result"
    }
   ],
   "source": [
    "ts.truncate(after='2011-1-3')"
   ]
  },
  {
   "cell_type": "code",
   "execution_count": 44,
   "metadata": {},
   "outputs": [],
   "source": [
    " #日期范围、频率、和移位"
   ]
  },
  {
   "cell_type": "code",
   "execution_count": 45,
   "metadata": {},
   "outputs": [],
   "source": [
    "index = pd.date_range('2001-1-1','2001-12-30')"
   ]
  },
  {
   "cell_type": "code",
   "execution_count": 46,
   "metadata": {},
   "outputs": [
    {
     "data": {
      "text/plain": [
       "DatetimeIndex(['2001-01-01', '2001-01-02', '2001-01-03', '2001-01-04',\n",
       "               '2001-01-05', '2001-01-06', '2001-01-07', '2001-01-08',\n",
       "               '2001-01-09', '2001-01-10',\n",
       "               ...\n",
       "               '2001-12-21', '2001-12-22', '2001-12-23', '2001-12-24',\n",
       "               '2001-12-25', '2001-12-26', '2001-12-27', '2001-12-28',\n",
       "               '2001-12-29', '2001-12-30'],\n",
       "              dtype='datetime64[ns]', length=364, freq='D')"
      ]
     },
     "execution_count": 46,
     "metadata": {},
     "output_type": "execute_result"
    }
   ],
   "source": [
    "index"
   ]
  },
  {
   "cell_type": "code",
   "execution_count": 47,
   "metadata": {},
   "outputs": [],
   "source": [
    "index = pd.date_range('2001-1-1','2001-12-30',freq='BM')"
   ]
  },
  {
   "cell_type": "code",
   "execution_count": 48,
   "metadata": {},
   "outputs": [
    {
     "data": {
      "text/plain": [
       "DatetimeIndex(['2001-01-31', '2001-02-28', '2001-03-30', '2001-04-30',\n",
       "               '2001-05-31', '2001-06-29', '2001-07-31', '2001-08-31',\n",
       "               '2001-09-28', '2001-10-31', '2001-11-30'],\n",
       "              dtype='datetime64[ns]', freq='BM')"
      ]
     },
     "execution_count": 48,
     "metadata": {},
     "output_type": "execute_result"
    }
   ],
   "source": [
    "index"
   ]
  },
  {
   "cell_type": "code",
   "execution_count": 49,
   "metadata": {},
   "outputs": [
    {
     "data": {
      "text/plain": [
       "DatetimeIndex(['2001-01-01 12:23:34', '2001-01-02 12:23:34',\n",
       "               '2001-01-03 12:23:34', '2001-01-04 12:23:34',\n",
       "               '2001-01-05 12:23:34'],\n",
       "              dtype='datetime64[ns]', freq='D')"
      ]
     },
     "execution_count": 49,
     "metadata": {},
     "output_type": "execute_result"
    }
   ],
   "source": [
    "pd.date_range('2001-1-1 12:23:34',periods=5)"
   ]
  },
  {
   "cell_type": "code",
   "execution_count": 50,
   "metadata": {},
   "outputs": [
    {
     "data": {
      "text/plain": [
       "DatetimeIndex(['2001-01-01', '2001-01-02', '2001-01-03', '2001-01-04',\n",
       "               '2001-01-05'],\n",
       "              dtype='datetime64[ns]', freq='D')"
      ]
     },
     "execution_count": 50,
     "metadata": {},
     "output_type": "execute_result"
    }
   ],
   "source": [
    "pd.date_range('2001-1-1 12:23:34',periods=5,normalize=True)"
   ]
  },
  {
   "cell_type": "code",
   "execution_count": 51,
   "metadata": {},
   "outputs": [],
   "source": [
    "#频率和日期偏置"
   ]
  },
  {
   "cell_type": "code",
   "execution_count": 52,
   "metadata": {},
   "outputs": [],
   "source": [
    " from pandas.tseries.offsets import Hour,Minute"
   ]
  },
  {
   "cell_type": "code",
   "execution_count": 53,
   "metadata": {},
   "outputs": [],
   "source": [
    "hour=Hour()"
   ]
  },
  {
   "cell_type": "code",
   "execution_count": 54,
   "metadata": {},
   "outputs": [
    {
     "data": {
      "text/plain": [
       "<Hour>"
      ]
     },
     "execution_count": 54,
     "metadata": {},
     "output_type": "execute_result"
    }
   ],
   "source": [
    "hour"
   ]
  },
  {
   "cell_type": "code",
   "execution_count": 55,
   "metadata": {},
   "outputs": [
    {
     "data": {
      "text/plain": [
       "DatetimeIndex(['2001-01-01 12:23:34', '2001-01-01 16:23:34',\n",
       "               '2001-01-01 20:23:34', '2001-01-02 00:23:34',\n",
       "               '2001-01-02 04:23:34', '2001-01-02 08:23:34',\n",
       "               '2001-01-02 12:23:34', '2001-01-02 16:23:34',\n",
       "               '2001-01-02 20:23:34', '2001-01-03 00:23:34',\n",
       "               ...\n",
       "               '2001-12-28 08:23:34', '2001-12-28 12:23:34',\n",
       "               '2001-12-28 16:23:34', '2001-12-28 20:23:34',\n",
       "               '2001-12-29 00:23:34', '2001-12-29 04:23:34',\n",
       "               '2001-12-29 08:23:34', '2001-12-29 12:23:34',\n",
       "               '2001-12-29 16:23:34', '2001-12-29 20:23:34'],\n",
       "              dtype='datetime64[ns]', length=2175, freq='4H')"
      ]
     },
     "execution_count": 55,
     "metadata": {},
     "output_type": "execute_result"
    }
   ],
   "source": [
    "pd.date_range('2001-1-1 12:23:34','2001-12-30',freq='4h')"
   ]
  },
  {
   "cell_type": "code",
   "execution_count": 56,
   "metadata": {},
   "outputs": [],
   "source": [
    "#移位"
   ]
  },
  {
   "cell_type": "code",
   "execution_count": 57,
   "metadata": {},
   "outputs": [],
   "source": [
    "ts=pd.Series(np.random.randn(4),\n",
    "            index=pd.date_range('1/1/2000',periods=4,freq='M'))"
   ]
  },
  {
   "cell_type": "code",
   "execution_count": 58,
   "metadata": {},
   "outputs": [
    {
     "data": {
      "text/plain": [
       "2000-01-31    0.392978\n",
       "2000-02-29    0.441470\n",
       "2000-03-31    0.047072\n",
       "2000-04-30   -2.852378\n",
       "Freq: M, dtype: float64"
      ]
     },
     "execution_count": 58,
     "metadata": {},
     "output_type": "execute_result"
    }
   ],
   "source": [
    "ts"
   ]
  },
  {
   "cell_type": "code",
   "execution_count": 59,
   "metadata": {},
   "outputs": [
    {
     "data": {
      "text/plain": [
       "2000-01-31         NaN\n",
       "2000-02-29         NaN\n",
       "2000-03-31    0.392978\n",
       "2000-04-30    0.441470\n",
       "Freq: M, dtype: float64"
      ]
     },
     "execution_count": 59,
     "metadata": {},
     "output_type": "execute_result"
    }
   ],
   "source": [
    "ts.shift(2)"
   ]
  },
  {
   "cell_type": "code",
   "execution_count": 60,
   "metadata": {},
   "outputs": [
    {
     "data": {
      "text/plain": [
       "2000-01-31    0.047072\n",
       "2000-02-29   -2.852378\n",
       "2000-03-31         NaN\n",
       "2000-04-30         NaN\n",
       "Freq: M, dtype: float64"
      ]
     },
     "execution_count": 60,
     "metadata": {},
     "output_type": "execute_result"
    }
   ],
   "source": [
    "ts.shift(-2)"
   ]
  },
  {
   "cell_type": "code",
   "execution_count": 61,
   "metadata": {},
   "outputs": [],
   "source": [
    "#重新采样和频率转换"
   ]
  },
  {
   "cell_type": "code",
   "execution_count": 63,
   "metadata": {},
   "outputs": [],
   "source": [
    "rng=pd.date_range('2000-01-01',periods=100,freq='D')"
   ]
  },
  {
   "cell_type": "code",
   "execution_count": 64,
   "metadata": {},
   "outputs": [],
   "source": [
    "ts=pd.Series(np.random.randn(len(rng)),index=rng)"
   ]
  },
  {
   "cell_type": "code",
   "execution_count": 65,
   "metadata": {},
   "outputs": [
    {
     "data": {
      "text/plain": [
       "2000-01-01   -0.435515\n",
       "2000-01-02    0.217235\n",
       "2000-01-03    1.567678\n",
       "2000-01-04    0.639983\n",
       "2000-01-05    0.327594\n",
       "2000-01-06   -1.502914\n",
       "2000-01-07   -2.665125\n",
       "2000-01-08    0.801576\n",
       "2000-01-09    0.275194\n",
       "2000-01-10   -0.441103\n",
       "2000-01-11    1.472171\n",
       "2000-01-12   -0.190578\n",
       "2000-01-13    0.368221\n",
       "2000-01-14    0.188878\n",
       "2000-01-15    0.407654\n",
       "2000-01-16    2.237116\n",
       "2000-01-17    1.258250\n",
       "2000-01-18    0.530601\n",
       "2000-01-19    1.286465\n",
       "2000-01-20    1.386144\n",
       "2000-01-21   -0.576517\n",
       "2000-01-22   -2.053931\n",
       "2000-01-23    1.095202\n",
       "2000-01-24   -0.822832\n",
       "2000-01-25    0.310046\n",
       "2000-01-26   -1.412194\n",
       "2000-01-27    1.087814\n",
       "2000-01-28   -0.265909\n",
       "2000-01-29    0.417963\n",
       "2000-01-30   -0.373093\n",
       "                ...   \n",
       "2000-03-11    0.945060\n",
       "2000-03-12   -1.195188\n",
       "2000-03-13   -0.695215\n",
       "2000-03-14    0.298834\n",
       "2000-03-15    0.633017\n",
       "2000-03-16   -0.712599\n",
       "2000-03-17   -0.629283\n",
       "2000-03-18   -0.576207\n",
       "2000-03-19   -1.029779\n",
       "2000-03-20   -0.673659\n",
       "2000-03-21   -0.438424\n",
       "2000-03-22    0.237517\n",
       "2000-03-23    1.259671\n",
       "2000-03-24    1.348378\n",
       "2000-03-25   -0.046563\n",
       "2000-03-26   -0.364280\n",
       "2000-03-27    0.848092\n",
       "2000-03-28   -0.981100\n",
       "2000-03-29    0.676020\n",
       "2000-03-30    0.021894\n",
       "2000-03-31    0.432601\n",
       "2000-04-01    1.181182\n",
       "2000-04-02   -0.881214\n",
       "2000-04-03   -0.503018\n",
       "2000-04-04    0.795096\n",
       "2000-04-05   -0.807214\n",
       "2000-04-06   -0.995248\n",
       "2000-04-07   -0.162475\n",
       "2000-04-08    2.630146\n",
       "2000-04-09   -1.874199\n",
       "Freq: D, Length: 100, dtype: float64"
      ]
     },
     "execution_count": 65,
     "metadata": {},
     "output_type": "execute_result"
    }
   ],
   "source": [
    "ts"
   ]
  },
  {
   "cell_type": "code",
   "execution_count": 66,
   "metadata": {},
   "outputs": [
    {
     "data": {
      "text/plain": [
       "2000-01-31    0.211118\n",
       "2000-02-29   -0.042929\n",
       "2000-03-31   -0.038293\n",
       "2000-04-30   -0.068549\n",
       "Freq: M, dtype: float64"
      ]
     },
     "execution_count": 66,
     "metadata": {},
     "output_type": "execute_result"
    }
   ],
   "source": [
    "ts.resample('M').mean()"
   ]
  },
  {
   "cell_type": "code",
   "execution_count": 67,
   "metadata": {},
   "outputs": [],
   "source": [
    "rng=pd.date_range('2000-01-01',periods=12,freq='T')"
   ]
  },
  {
   "cell_type": "code",
   "execution_count": 68,
   "metadata": {},
   "outputs": [],
   "source": [
    "ts=pd.Series(np.random.randn(len(rng)),index=rng)"
   ]
  },
  {
   "cell_type": "code",
   "execution_count": 69,
   "metadata": {},
   "outputs": [
    {
     "data": {
      "text/plain": [
       "2000-01-01 00:00:00   -0.180896\n",
       "2000-01-01 00:01:00    1.188635\n",
       "2000-01-01 00:02:00    1.386312\n",
       "2000-01-01 00:03:00   -0.412317\n",
       "2000-01-01 00:04:00   -1.048303\n",
       "2000-01-01 00:05:00   -0.212793\n",
       "2000-01-01 00:06:00    0.193013\n",
       "2000-01-01 00:07:00   -0.433998\n",
       "2000-01-01 00:08:00   -0.855003\n",
       "2000-01-01 00:09:00    0.882690\n",
       "2000-01-01 00:10:00    0.182795\n",
       "2000-01-01 00:11:00   -0.399212\n",
       "Freq: T, dtype: float64"
      ]
     },
     "execution_count": 69,
     "metadata": {},
     "output_type": "execute_result"
    }
   ],
   "source": [
    "ts"
   ]
  },
  {
   "cell_type": "code",
   "execution_count": 70,
   "metadata": {},
   "outputs": [
    {
     "data": {
      "text/plain": [
       "1999-12-31 23:55:00   -0.180896\n",
       "2000-01-01 00:00:00    0.901534\n",
       "2000-01-01 00:05:00   -0.030503\n",
       "2000-01-01 00:10:00   -0.399212\n",
       "Freq: 5T, dtype: float64"
      ]
     },
     "execution_count": 70,
     "metadata": {},
     "output_type": "execute_result"
    }
   ],
   "source": [
    "ts.resample('5min',closed='right').sum()"
   ]
  },
  {
   "cell_type": "code",
   "execution_count": 1,
   "metadata": {},
   "outputs": [],
   "source": [
    "#高阶pandas"
   ]
  },
  {
   "cell_type": "code",
   "execution_count": 2,
   "metadata": {},
   "outputs": [],
   "source": [
    "import numpy as np\n",
    "import pandas as pd \n",
    "import matplotlib.pyplot as plt"
   ]
  },
  {
   "cell_type": "code",
   "execution_count": 3,
   "metadata": {},
   "outputs": [],
   "source": [
    "values=pd.Series(['apple','orange','apple','apple']*2)"
   ]
  },
  {
   "cell_type": "code",
   "execution_count": 4,
   "metadata": {},
   "outputs": [
    {
     "data": {
      "text/plain": [
       "0     apple\n",
       "1    orange\n",
       "2     apple\n",
       "3     apple\n",
       "4     apple\n",
       "5    orange\n",
       "6     apple\n",
       "7     apple\n",
       "dtype: object"
      ]
     },
     "execution_count": 4,
     "metadata": {},
     "output_type": "execute_result"
    }
   ],
   "source": [
    "values"
   ]
  },
  {
   "cell_type": "code",
   "execution_count": 5,
   "metadata": {},
   "outputs": [],
   "source": [
    "#pandas的category类型"
   ]
  },
  {
   "cell_type": "code",
   "execution_count": 6,
   "metadata": {},
   "outputs": [],
   "source": [
    "df = pd.DataFrame({\n",
    "    'key1':['a','a','b','b','a'],\n",
    "    'key2':['one','two','one','two','one'],\n",
    "    'data1': np.random.randn(5),\n",
    "    'data2': np.random.randn(5)\n",
    "})"
   ]
  },
  {
   "cell_type": "code",
   "execution_count": 7,
   "metadata": {},
   "outputs": [
    {
     "data": {
      "text/html": [
       "<div>\n",
       "<style scoped>\n",
       "    .dataframe tbody tr th:only-of-type {\n",
       "        vertical-align: middle;\n",
       "    }\n",
       "\n",
       "    .dataframe tbody tr th {\n",
       "        vertical-align: top;\n",
       "    }\n",
       "\n",
       "    .dataframe thead th {\n",
       "        text-align: right;\n",
       "    }\n",
       "</style>\n",
       "<table border=\"1\" class=\"dataframe\">\n",
       "  <thead>\n",
       "    <tr style=\"text-align: right;\">\n",
       "      <th></th>\n",
       "      <th>key1</th>\n",
       "      <th>key2</th>\n",
       "      <th>data1</th>\n",
       "      <th>data2</th>\n",
       "    </tr>\n",
       "  </thead>\n",
       "  <tbody>\n",
       "    <tr>\n",
       "      <th>0</th>\n",
       "      <td>a</td>\n",
       "      <td>one</td>\n",
       "      <td>0.666921</td>\n",
       "      <td>-0.135733</td>\n",
       "    </tr>\n",
       "    <tr>\n",
       "      <th>1</th>\n",
       "      <td>a</td>\n",
       "      <td>two</td>\n",
       "      <td>0.644608</td>\n",
       "      <td>0.746175</td>\n",
       "    </tr>\n",
       "    <tr>\n",
       "      <th>2</th>\n",
       "      <td>b</td>\n",
       "      <td>one</td>\n",
       "      <td>-0.177934</td>\n",
       "      <td>-1.164310</td>\n",
       "    </tr>\n",
       "    <tr>\n",
       "      <th>3</th>\n",
       "      <td>b</td>\n",
       "      <td>two</td>\n",
       "      <td>-0.037836</td>\n",
       "      <td>-0.071601</td>\n",
       "    </tr>\n",
       "    <tr>\n",
       "      <th>4</th>\n",
       "      <td>a</td>\n",
       "      <td>one</td>\n",
       "      <td>-0.074153</td>\n",
       "      <td>-1.122931</td>\n",
       "    </tr>\n",
       "  </tbody>\n",
       "</table>\n",
       "</div>"
      ],
      "text/plain": [
       "  key1 key2     data1     data2\n",
       "0    a  one  0.666921 -0.135733\n",
       "1    a  two  0.644608  0.746175\n",
       "2    b  one -0.177934 -1.164310\n",
       "3    b  two -0.037836 -0.071601\n",
       "4    a  one -0.074153 -1.122931"
      ]
     },
     "execution_count": 7,
     "metadata": {},
     "output_type": "execute_result"
    }
   ],
   "source": [
    "df"
   ]
  },
  {
   "cell_type": "code",
   "execution_count": 8,
   "metadata": {},
   "outputs": [],
   "source": [
    "type1=df['key1'].astype('category')"
   ]
  },
  {
   "cell_type": "code",
   "execution_count": 9,
   "metadata": {},
   "outputs": [
    {
     "data": {
      "text/plain": [
       "0    a\n",
       "1    a\n",
       "2    b\n",
       "3    b\n",
       "4    a\n",
       "Name: key1, dtype: category\n",
       "Categories (2, object): [a, b]"
      ]
     },
     "execution_count": 9,
     "metadata": {},
     "output_type": "execute_result"
    }
   ],
   "source": [
    "type1"
   ]
  },
  {
   "cell_type": "code",
   "execution_count": 10,
   "metadata": {},
   "outputs": [],
   "source": [
    "my_cate=pd.Categorical(['apple','orange','apple','apple'])"
   ]
  },
  {
   "cell_type": "code",
   "execution_count": 11,
   "metadata": {},
   "outputs": [
    {
     "data": {
      "text/plain": [
       "[apple, orange, apple, apple]\n",
       "Categories (2, object): [apple, orange]"
      ]
     },
     "execution_count": 11,
     "metadata": {},
     "output_type": "execute_result"
    }
   ],
   "source": [
    "my_cate"
   ]
  },
  {
   "cell_type": "code",
   "execution_count": 12,
   "metadata": {},
   "outputs": [],
   "source": [
    "#使用category对象进行计算"
   ]
  },
  {
   "cell_type": "code",
   "execution_count": 13,
   "metadata": {},
   "outputs": [],
   "source": [
    "np.random.seed(12345)"
   ]
  },
  {
   "cell_type": "code",
   "execution_count": 14,
   "metadata": {},
   "outputs": [],
   "source": [
    "draws=np.random.randn(1000)"
   ]
  },
  {
   "cell_type": "code",
   "execution_count": 15,
   "metadata": {},
   "outputs": [
    {
     "data": {
      "text/plain": [
       "array([-0.20470766,  0.47894334, -0.51943872, -0.5557303 ,  1.96578057])"
      ]
     },
     "execution_count": 15,
     "metadata": {},
     "output_type": "execute_result"
    }
   ],
   "source": [
    "draws[:5]"
   ]
  },
  {
   "cell_type": "code",
   "execution_count": 16,
   "metadata": {},
   "outputs": [],
   "source": [
    "bins=pd.qcut(draws,4)"
   ]
  },
  {
   "cell_type": "code",
   "execution_count": 17,
   "metadata": {},
   "outputs": [],
   "source": [
    "bins=pd.qcut(draws,4,labels=['Q1','Q2','Q3','Q4'])"
   ]
  },
  {
   "cell_type": "code",
   "execution_count": 18,
   "metadata": {},
   "outputs": [
    {
     "data": {
      "text/plain": [
       "[Q2, Q3, Q2, Q2, Q4, ..., Q3, Q2, Q1, Q3, Q4]\n",
       "Length: 1000\n",
       "Categories (4, object): [Q1 < Q2 < Q3 < Q4]"
      ]
     },
     "execution_count": 18,
     "metadata": {},
     "output_type": "execute_result"
    }
   ],
   "source": [
    "bins"
   ]
  },
  {
   "cell_type": "code",
   "execution_count": 19,
   "metadata": {},
   "outputs": [],
   "source": [
    "bins=pd.Series(bins,name='quartile')"
   ]
  },
  {
   "cell_type": "code",
   "execution_count": 24,
   "metadata": {},
   "outputs": [
    {
     "data": {
      "text/plain": [
       "0    Q2\n",
       "1    Q3\n",
       "2    Q2\n",
       "3    Q2\n",
       "4    Q4\n",
       "5    Q4\n",
       "6    Q3\n",
       "7    Q3\n",
       "8    Q4\n",
       "9    Q4\n",
       "Name: quartile, dtype: category\n",
       "Categories (4, object): [Q1 < Q2 < Q3 < Q4]"
      ]
     },
     "execution_count": 24,
     "metadata": {},
     "output_type": "execute_result"
    }
   ],
   "source": [
    "bins[:10]"
   ]
  },
  {
   "cell_type": "code",
   "execution_count": 27,
   "metadata": {},
   "outputs": [
    {
     "data": {
      "text/plain": [
       "0   -0.204708\n",
       "1    0.478943\n",
       "2   -0.519439\n",
       "3   -0.555730\n",
       "4    1.965781\n",
       "5    1.393406\n",
       "6    0.092908\n",
       "7    0.281746\n",
       "8    0.769023\n",
       "9    1.246435\n",
       "dtype: float64"
      ]
     },
     "execution_count": 27,
     "metadata": {},
     "output_type": "execute_result"
    }
   ],
   "source": [
    "res=pd.Series(draws)\n",
    "res[:10]"
   ]
  },
  {
   "cell_type": "code",
   "execution_count": 26,
   "metadata": {},
   "outputs": [
    {
     "data": {
      "text/html": [
       "<div>\n",
       "<style scoped>\n",
       "    .dataframe tbody tr th:only-of-type {\n",
       "        vertical-align: middle;\n",
       "    }\n",
       "\n",
       "    .dataframe tbody tr th {\n",
       "        vertical-align: top;\n",
       "    }\n",
       "\n",
       "    .dataframe thead th {\n",
       "        text-align: right;\n",
       "    }\n",
       "</style>\n",
       "<table border=\"1\" class=\"dataframe\">\n",
       "  <thead>\n",
       "    <tr style=\"text-align: right;\">\n",
       "      <th></th>\n",
       "      <th>quartile</th>\n",
       "      <th>count</th>\n",
       "      <th>min</th>\n",
       "      <th>max</th>\n",
       "    </tr>\n",
       "  </thead>\n",
       "  <tbody>\n",
       "    <tr>\n",
       "      <th>0</th>\n",
       "      <td>Q1</td>\n",
       "      <td>250</td>\n",
       "      <td>-2.949343</td>\n",
       "      <td>-0.685484</td>\n",
       "    </tr>\n",
       "    <tr>\n",
       "      <th>1</th>\n",
       "      <td>Q2</td>\n",
       "      <td>250</td>\n",
       "      <td>-0.683066</td>\n",
       "      <td>-0.010115</td>\n",
       "    </tr>\n",
       "    <tr>\n",
       "      <th>2</th>\n",
       "      <td>Q3</td>\n",
       "      <td>250</td>\n",
       "      <td>-0.010032</td>\n",
       "      <td>0.628894</td>\n",
       "    </tr>\n",
       "    <tr>\n",
       "      <th>3</th>\n",
       "      <td>Q4</td>\n",
       "      <td>250</td>\n",
       "      <td>0.634238</td>\n",
       "      <td>3.927528</td>\n",
       "    </tr>\n",
       "  </tbody>\n",
       "</table>\n",
       "</div>"
      ],
      "text/plain": [
       "  quartile  count       min       max\n",
       "0       Q1    250 -2.949343 -0.685484\n",
       "1       Q2    250 -0.683066 -0.010115\n",
       "2       Q3    250 -0.010032  0.628894\n",
       "3       Q4    250  0.634238  3.927528"
      ]
     },
     "execution_count": 26,
     "metadata": {},
     "output_type": "execute_result"
    }
   ],
   "source": [
    "res.groupby(bins).agg(['count','min','max']).reset_index()"
   ]
  },
  {
   "cell_type": "code",
   "execution_count": null,
   "metadata": {},
   "outputs": [],
   "source": []
  }
 ],
 "metadata": {
  "kernelspec": {
   "display_name": "Python 3",
   "language": "python",
   "name": "python3"
  },
  "language_info": {
   "codemirror_mode": {
    "name": "ipython",
    "version": 3
   },
   "file_extension": ".py",
   "mimetype": "text/x-python",
   "name": "python",
   "nbconvert_exporter": "python",
   "pygments_lexer": "ipython3",
   "version": "3.7.0"
  }
 },
 "nbformat": 4,
 "nbformat_minor": 2
}
